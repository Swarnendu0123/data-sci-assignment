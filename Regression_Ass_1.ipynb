{
 "cells": [
  {
   "cell_type": "markdown",
   "metadata": {},
   "source": [
    "### Q1. Explain the difference between simple linear regression and multiple linear regression. Provide an example of each."
   ]
  },
  {
   "cell_type": "markdown",
   "metadata": {},
   "source": [
    "Simple linear regression is a regression model that estimates the relationship between one independent variable and one dependent variable using a straight line.\n",
    "\n",
    "Multiple linear regression is a regression model that estimates the relationship between one dependent variable and multiple independent variables using a straight line.\n",
    "\n",
    "Example of simple linear regression: y = 2x + 3\n",
    "\n",
    "x = independent feature, y = dependent feature\n",
    "\n",
    "Example of multiple linear regression: y = 2x + 3z + 4\n",
    "\n",
    "x,z = independent feature, y = dependent feature"
   ]
  },
  {
   "cell_type": "markdown",
   "metadata": {},
   "source": [
    "### Q2. Discuss the assumptions of linear regression. How can you check whether these assumptions hold in a given dataset?"
   ]
  },
  {
   "cell_type": "markdown",
   "metadata": {},
   "source": [
    "The assumptions of linear regression are:\n",
    "1. the relationship between the variables should be linear\n",
    "2. the residuals should be normally distributed\n",
    "3. the residuals should have constant variance"
   ]
  },
  {
   "cell_type": "markdown",
   "metadata": {},
   "source": [
    "### Q3. How do you interpret the slope and intercept in a linear regression model? Provide an example using a real-world scenario."
   ]
  },
  {
   "cell_type": "markdown",
   "metadata": {},
   "source": [
    "The slope is the rate of change in the dependent variable (y) as a function of the independent variable (x).\n",
    "The intercept is the value of y when x = 0.\n",
    "For example,for an model which is trained on height vs weight datast if the slope is 2, then weight increases by 10kg and height increases by 20cm."
   ]
  },
  {
   "cell_type": "markdown",
   "metadata": {},
   "source": [
    "### Q4. Explain the concept of gradient descent. How is it used in machine learning?"
   ]
  },
  {
   "cell_type": "markdown",
   "metadata": {},
   "source": [
    "Gradient descent is an optimization algorithm by which we can find the minimum value of a function.\n",
    "\n",
    "It is used in machine learning to find the minimum value of a cost function."
   ]
  },
  {
   "cell_type": "markdown",
   "metadata": {},
   "source": [
    "### Q5. Describe the multiple linear regression model. How does it differ from simple linear regression?"
   ]
  },
  {
   "cell_type": "markdown",
   "metadata": {},
   "source": [
    "Multiple linear regression is a statistical technique which is used to predict the outcome of a dependendent variable based on the value of two or more independent variables.\n",
    "\n",
    "It differs from simple linear regression in that it uses more than one independent variable to predict the outcome of the dependent variable. whereas simple linear regression uses only one independent variable to predict the outcome of the dependent variable."
   ]
  },
  {
   "cell_type": "markdown",
   "metadata": {},
   "source": [
    "### Q6. Explain the concept of multicollinearity in multiple linear regression. How can you detect and address this issue?"
   ]
  },
  {
   "cell_type": "markdown",
   "metadata": {},
   "source": [
    "Multicollinearity occurs when two or more independent variables are highly correlated with one another in a regression model.\n",
    "\n",
    "Multicollinearity can be detected by using the correlation matrix. If the correlation coefficient between two variables is high (>0.5), then those two variables are highly correlated."
   ]
  },
  {
   "cell_type": "markdown",
   "metadata": {},
   "source": [
    "### Q7. Describe the polynomial regression model. How is it different from linear regression?"
   ]
  },
  {
   "cell_type": "markdown",
   "metadata": {},
   "source": [
    "Polynomial regression is a form of regression where we fit a polynomial equation to the data. By doing so, we try to fit the model to the accurate data points.\n",
    "\n",
    "Polynomial regression is different from linear regression in the sense that we fit a polynomial equation to the data rather than a straight line."
   ]
  },
  {
   "cell_type": "markdown",
   "metadata": {},
   "source": [
    "### Q8. What are the advantages and disadvantages of polynomial regression compared to linear regression? In what situations would you prefer to use polynomial regression?"
   ]
  },
  {
   "cell_type": "markdown",
   "metadata": {},
   "source": [
    "Advantages of polynomial regression: \n",
    "1) Broad range of function can be fit under it. \n",
    "2) Polynomial basically fits wide range of curvature. \n",
    "3) Polynomial provides the best approximation of the relationship between dependent and independent variable.\n",
    "\n",
    "Disadvantages of polynomial regression: \n",
    "1) These are too sensitive to the outliers. \n",
    "2) The presence of one or two outliers in the data can seriously affect the results of a nonlinear analysis. \n",
    "3) In addition there are unfortunately fewer model validation tools for the detection of outliers in nonlinear regression than there are for linear regression.\n",
    "\n",
    "Situations where we prefer polynomial regression: When we are not able to find a linear relationship between dependent and independent variables, we use polynomial regression."
   ]
  }
 ],
 "metadata": {
  "kernelspec": {
   "display_name": "Python 3",
   "language": "python",
   "name": "python3"
  },
  "language_info": {
   "name": "python",
   "version": "3.12.0"
  }
 },
 "nbformat": 4,
 "nbformat_minor": 2
}
